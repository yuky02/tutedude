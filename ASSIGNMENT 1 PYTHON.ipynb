{
 "cells": [
  {
   "cell_type": "code",
   "execution_count": 1,
   "id": "aadf651b-0cef-45e2-887f-040ed96cf60d",
   "metadata": {},
   "outputs": [],
   "source": [
    "# Task 1: Perform Basic Mathematical Operations\n",
    "#1.  Takes two numbers as input from the user.\n",
    "#2.  Performs the basic mathematical operations on these two numbers:\n",
    "#o\tAddition\n",
    "#o\tSubtraction\n",
    "#o\tMultiplication\n",
    "#o\tDivision\n",
    "#3.  Displays the results of each operation on the screen.\n"
   ]
  },
  {
   "cell_type": "code",
   "execution_count": 13,
   "id": "857918fd-ef5f-4b3c-8175-6885a3beff73",
   "metadata": {},
   "outputs": [
    {
     "name": "stdin",
     "output_type": "stream",
     "text": [
      "Enter the first Number:  154.51\n",
      "Enter the second  Number:  114.22\n"
     ]
    },
    {
     "name": "stdout",
     "output_type": "stream",
     "text": [
      "Addtion : 268.73\n",
      "Substraction : 40.28999999999999\n",
      "Multiplication : 17648.1322\n",
      "Division : 1.35274032568727\n"
     ]
    }
   ],
   "source": [
    "a = input(\"Enter the first Number: \")\n",
    "b= input(\"Enter the second  Number: \")\n",
    "a=float(a)\n",
    "b=float(b)\n",
    "print(\"Addtion :\" ,a+b)\n",
    "print(\"Substraction :\" ,a-b)\n",
    "print(\"Multiplication :\" ,a*b)\n",
    "print(\"Division :\" ,a/b)"
   ]
  },
  {
   "cell_type": "code",
   "execution_count": 14,
   "id": "b7d1e163-2957-4521-922b-542a7860680b",
   "metadata": {},
   "outputs": [],
   "source": [
    "#Task 2: Create a Personalized Greeting\n",
    "#Problem Statement: Write a Python program that:\n",
    "#1.  Takes a user's first name and last name as input.\n",
    "#2.  Concatenates the first name and last name into a full name.\n",
    "#3.  Prints a personalized greeting message using the full name.\n"
   ]
  },
  {
   "cell_type": "code",
   "execution_count": 33,
   "id": "9cebd50f-36ed-46bb-bc88-3bf155c36fff",
   "metadata": {},
   "outputs": [
    {
     "name": "stdin",
     "output_type": "stream",
     "text": [
      "Enter the first name :   Yash\n",
      "Enter the last name :    Lalwani\n"
     ]
    },
    {
     "name": "stdout",
     "output_type": "stream",
     "text": [
      "Hello, Yash Lalwani! Welcome to this World.\n"
     ]
    }
   ],
   "source": [
    "a = input(\"Enter the first name : \")\n",
    "b = input(\"Enter the last name :  \")\n",
    "print(\"Hello,\"+a+b+\"! Welcome to this World.\")"
   ]
  },
  {
   "cell_type": "code",
   "execution_count": null,
   "id": "912bbaf0-5794-492a-a69f-64cb4a6a0b39",
   "metadata": {},
   "outputs": [],
   "source": []
  }
 ],
 "metadata": {
  "kernelspec": {
   "display_name": "Python [conda env:base] *",
   "language": "python",
   "name": "conda-base-py"
  },
  "language_info": {
   "codemirror_mode": {
    "name": "ipython",
    "version": 3
   },
   "file_extension": ".py",
   "mimetype": "text/x-python",
   "name": "python",
   "nbconvert_exporter": "python",
   "pygments_lexer": "ipython3",
   "version": "3.12.7"
  }
 },
 "nbformat": 4,
 "nbformat_minor": 5
}
